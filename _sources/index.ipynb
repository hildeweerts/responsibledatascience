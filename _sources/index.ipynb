{
 "cells": [
  {
   "cell_type": "markdown",
   "id": "1ad06325",
   "metadata": {},
   "source": [
    "# An Introduction to Responsible Data Science\n",
    "\n",
    "by *Hilde Weerts*"
   ]
  },
  {
   "cell_type": "code",
   "execution_count": 1,
   "id": "9274aa5f",
   "metadata": {
    "tags": [
     "remove-cell"
    ]
   },
   "outputs": [
    {
     "data": {
      "text/plain": [
       "'2022-02-07'"
      ]
     },
     "metadata": {
      "scrapbook": {
       "mime_prefix": "",
       "name": "today"
      }
     },
     "output_type": "display_data"
    }
   ],
   "source": [
    "from datetime import date\n",
    "from myst_nb import glue\n",
    "glue(\"today\", date.today().strftime('%Y-%m-%d'))"
   ]
  },
  {
   "cell_type": "markdown",
   "id": "46406d3f",
   "metadata": {},
   "source": [
    "Last updated: {glue:text}`today`\n",
    "\n",
    "```{note}\n",
    "This book is still very much under development. If you have suggestions, questions, or comments, please feel free to open an issue on the [Github repository](https://github.com/hildeweerts/responsibledatascience).\n",
    "```\n",
    "---\n",
    "\n",
    "With the advent of large-scale data collection, the toolkit of a data scientist has proven to be a powerful way to make products and processes faster, cheaper, and better. Many data science applications make use of {term}`machine learning` algorithms: algorithms that build mathematical models by `learning' from data. Nowadays, machine learning models are integrated in many computer systems: from music recommendations to automated fraud detection, facial recognition systems, and personalized medicine assistants. These systems can provide benefits, but are not without risks.\n",
    "\n",
    "A responsible data scientist understands how machine learning models might be harmful and how the risks can be mitigated. This online book provides a practical introduction to the nascent field of responsible data science, structured around three themes.\n",
    "\n",
    "````{panels}\n",
    ":column: col-xs-1, col-sm-4\n",
    "\n",
    "**Fairness**\n",
    "\n",
    "Data-driven systems can inherit the existing prejudices embedded in society, resulting in systematic discrimination or other harms.\n",
    "\n",
    "```{link-button} introfairness\n",
    ":text: learn more\n",
    ":type: ref\n",
    ":classes: btn-outline-primary btn-block stretched-link\n",
    "\n",
    "---\n",
    "\n",
    "**Transparency**\n",
    "\n",
    "As the complexity of machine learning models increase, it becomes more difficult for humans to understand, assess, and justify their behavior.\n",
    "\n",
    "```{link-button} introxai\n",
    ":text: learn more\n",
    ":type: ref\n",
    ":classes: btn-outline-primary btn-block stretched-link\n",
    "```\n",
    "---\n",
    "\n",
    "**Accountability**\n",
    "\n",
    "The increasing power of the organizations who develop and deploy machine learning systems raises questions about accountability.\n",
    "\n",
    "```{link-button} introaccountability\n",
    ":text: learn more\n",
    ":type: ref\n",
    ":classes: btn-outline-primary btn-block stretched-link\n",
    "```\n",
    "\n",
    "````\n",
    "\n",
    "The goal of this book is to provide a practical approach, building a bridge between philosophical, social, and technical perspectives.\n",
    "\n",
    "--- \n",
    "This work is licensed under a\n",
    "[Creative Commons Attribution-NonCommercial 4.0 International License][cc-by-nc].\n",
    "\n",
    "[![CC BY-NC 4.0][cc-by-nc-image]][cc-by-nc]\n",
    "\n",
    "[cc-by-nc]: http://creativecommons.org/licenses/by-nc/4.0/\n",
    "[cc-by-nc-image]: https://licensebuttons.net/l/by-nc/4.0/88x31.png\n",
    "[cc-by-nc-shield]: https://img.shields.io/badge/License-CC%20BY--NC%204.0-lightgrey.svg"
   ]
  }
 ],
 "metadata": {
  "jupytext": {
   "formats": "md:myst",
   "text_representation": {
    "extension": ".md",
    "format_name": "myst"
   }
  },
  "kernelspec": {
   "display_name": "Python 3",
   "language": "python",
   "name": "python3"
  },
  "language_info": {
   "codemirror_mode": {
    "name": "ipython",
    "version": 3
   },
   "file_extension": ".py",
   "mimetype": "text/x-python",
   "name": "python",
   "nbconvert_exporter": "python",
   "pygments_lexer": "ipython3",
   "version": "3.9.6"
  },
  "source_map": [
   11,
   17,
   24
  ]
 },
 "nbformat": 4,
 "nbformat_minor": 5
}